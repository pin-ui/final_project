{
 "cells": [
  {
   "cell_type": "markdown",
   "id": "8ec7f6bd",
   "metadata": {
    "tags": []
   },
   "source": [
    "## import modules"
   ]
  },
  {
   "cell_type": "code",
   "execution_count": 1,
   "id": "f1fce2ba",
   "metadata": {},
   "outputs": [],
   "source": [
    "# Import basic modules\n",
    "import math\n",
    "import os\n",
    "import sys\n",
    "import time\n",
    "import pandas as pd\n",
    "import numpy as np\n",
    "import matplotlib.pyplot as plt\n",
    "import warnings\n",
    "warnings.filterwarnings(\"ignore\") # Ignore some annoying warnings\n",
    "from datetime import datetime\n",
    "\n",
    "# Import module for EMD decomposition\n",
    "# It is the EMD-signal module with different name to import\n",
    "from PyEMD import EMD,EEMD,CEEMDAN,Visualisation #For module 'PyEMD', please use 'pip install EMD-signal' instead.\n",
    "\n",
    "# Import modules for LSTM prediciton\n",
    "# Sklearn\n",
    "from sklearn.preprocessing import MinMaxScaler # Normalization\n",
    "from sklearn.metrics import r2_score # R2\n",
    "from sklearn.metrics import mean_squared_error # MSE\n",
    "from sklearn.metrics import mean_absolute_error # MAE\n",
    "from sklearn.metrics import mean_absolute_percentage_error # MAPE\n",
    "\n",
    "\n",
    "# Statistical tests\n",
    "from statsmodels.tsa.stattools import adfuller # adf_test\n",
    "from statsmodels.stats.diagnostic import acorr_ljungbox as lb_test # LB_test\n",
    "from statsmodels.stats.stattools import jarque_bera as jb_test # JB_test\n",
    "from statsmodels.graphics.tsaplots import plot_acf, plot_pacf # plot_acf_pacf\n",
    "\n",
    "from sklearn.preprocessing import StandardScaler\n",
    "\n",
    "import yfinance as yf\n",
    "\n",
    "from xgboost import XGBRegressor as XGBR"
   ]
  },
  {
   "cell_type": "code",
   "execution_count": 2,
   "id": "43b559a5",
   "metadata": {},
   "outputs": [
    {
     "name": "stdout",
     "output_type": "stream",
     "text": [
      "[*********************100%***********************]  1 of 1 completed\n"
     ]
    }
   ],
   "source": [
    "data = yf.download(\"^HSI\", start=\"2017-07-26\", end=\"2022-07-26\")"
   ]
  },
  {
   "cell_type": "code",
   "execution_count": 3,
   "id": "5a3bea62",
   "metadata": {},
   "outputs": [],
   "source": [
    "data = data.iloc[:,[0,1,2,3,5]]\n",
    "#data.index = range(len(data))"
   ]
  },
  {
   "cell_type": "code",
   "execution_count": 4,
   "id": "20b28b5c",
   "metadata": {},
   "outputs": [
    {
     "data": {
      "text/html": [
       "<div>\n",
       "<style scoped>\n",
       "    .dataframe tbody tr th:only-of-type {\n",
       "        vertical-align: middle;\n",
       "    }\n",
       "\n",
       "    .dataframe tbody tr th {\n",
       "        vertical-align: top;\n",
       "    }\n",
       "\n",
       "    .dataframe thead th {\n",
       "        text-align: right;\n",
       "    }\n",
       "</style>\n",
       "<table border=\"1\" class=\"dataframe\">\n",
       "  <thead>\n",
       "    <tr style=\"text-align: right;\">\n",
       "      <th></th>\n",
       "      <th>Open</th>\n",
       "      <th>High</th>\n",
       "      <th>Low</th>\n",
       "      <th>Close</th>\n",
       "      <th>Volume</th>\n",
       "    </tr>\n",
       "    <tr>\n",
       "      <th>Date</th>\n",
       "      <th></th>\n",
       "      <th></th>\n",
       "      <th></th>\n",
       "      <th></th>\n",
       "      <th></th>\n",
       "    </tr>\n",
       "  </thead>\n",
       "  <tbody>\n",
       "    <tr>\n",
       "      <th>2017-07-26</th>\n",
       "      <td>26960.810547</td>\n",
       "      <td>27007.269531</td>\n",
       "      <td>26786.630859</td>\n",
       "      <td>26941.019531</td>\n",
       "      <td>2176480400</td>\n",
       "    </tr>\n",
       "    <tr>\n",
       "      <th>2017-07-27</th>\n",
       "      <td>27002.699219</td>\n",
       "      <td>27169.150391</td>\n",
       "      <td>26962.029297</td>\n",
       "      <td>27131.169922</td>\n",
       "      <td>1763945900</td>\n",
       "    </tr>\n",
       "    <tr>\n",
       "      <th>2017-07-28</th>\n",
       "      <td>27007.970703</td>\n",
       "      <td>27047.880859</td>\n",
       "      <td>26928.439453</td>\n",
       "      <td>26979.390625</td>\n",
       "      <td>1456040200</td>\n",
       "    </tr>\n",
       "    <tr>\n",
       "      <th>2017-07-31</th>\n",
       "      <td>27048.449219</td>\n",
       "      <td>27324.380859</td>\n",
       "      <td>27045.410156</td>\n",
       "      <td>27323.990234</td>\n",
       "      <td>1693214100</td>\n",
       "    </tr>\n",
       "    <tr>\n",
       "      <th>2017-08-01</th>\n",
       "      <td>27326.039062</td>\n",
       "      <td>27558.000000</td>\n",
       "      <td>27326.039062</td>\n",
       "      <td>27540.230469</td>\n",
       "      <td>2392422600</td>\n",
       "    </tr>\n",
       "  </tbody>\n",
       "</table>\n",
       "</div>"
      ],
      "text/plain": [
       "                    Open          High           Low         Close      Volume\n",
       "Date                                                                          \n",
       "2017-07-26  26960.810547  27007.269531  26786.630859  26941.019531  2176480400\n",
       "2017-07-27  27002.699219  27169.150391  26962.029297  27131.169922  1763945900\n",
       "2017-07-28  27007.970703  27047.880859  26928.439453  26979.390625  1456040200\n",
       "2017-07-31  27048.449219  27324.380859  27045.410156  27323.990234  1693214100\n",
       "2017-08-01  27326.039062  27558.000000  27326.039062  27540.230469  2392422600"
      ]
     },
     "execution_count": 4,
     "metadata": {},
     "output_type": "execute_result"
    }
   ],
   "source": [
    "data.head()"
   ]
  },
  {
   "cell_type": "code",
   "execution_count": 5,
   "id": "1f73b778",
   "metadata": {},
   "outputs": [
    {
     "data": {
      "text/plain": [
       "(1231, 5)"
      ]
     },
     "execution_count": 5,
     "metadata": {},
     "output_type": "execute_result"
    }
   ],
   "source": [
    "data.shape"
   ]
  },
  {
   "cell_type": "markdown",
   "id": "799ab7de",
   "metadata": {
    "tags": []
   },
   "source": [
    "# generate features"
   ]
  },
  {
   "cell_type": "code",
   "execution_count": 7,
   "id": "75a2c4d5",
   "metadata": {},
   "outputs": [],
   "source": [
    "import talib\n",
    "def features(dataset):\n",
    "    for i in [5,10,20,60]:\n",
    "        window = i\n",
    "        # Volatility\n",
    "        dataset[str('SMA'+str(i))] = talib.SMA(dataset['Close'],timeperiod=window).shift(1)\n",
    "        dataset[str('EMA'+str(i))] = talib.EMA(dataset['Close'],timeperiod=window).shift(1)\n",
    "        dataset[str('STDDEV'+str(i))] = talib.STDDEV(dataset['Close'],timeperiod=window).shift(1)\n",
    "        dataset[str('Lag'+str(i))] = dataset['Close'].shift(i)\n",
    "    return dataset"
   ]
  },
  {
   "cell_type": "code",
   "execution_count": 8,
   "id": "07a159c2",
   "metadata": {},
   "outputs": [],
   "source": [
    "data = features(data)"
   ]
  },
  {
   "cell_type": "code",
   "execution_count": 9,
   "id": "d33b673c",
   "metadata": {},
   "outputs": [
    {
     "data": {
      "text/plain": [
       "(1171, 21)"
      ]
     },
     "execution_count": 9,
     "metadata": {},
     "output_type": "execute_result"
    }
   ],
   "source": [
    "data = data.iloc[60:,:]\n",
    "data.index = range(len(data))\n",
    "data.shape"
   ]
  },
  {
   "cell_type": "code",
   "execution_count": 10,
   "id": "d4bb3928",
   "metadata": {},
   "outputs": [
    {
     "data": {
      "text/html": [
       "<div>\n",
       "<style scoped>\n",
       "    .dataframe tbody tr th:only-of-type {\n",
       "        vertical-align: middle;\n",
       "    }\n",
       "\n",
       "    .dataframe tbody tr th {\n",
       "        vertical-align: top;\n",
       "    }\n",
       "\n",
       "    .dataframe thead th {\n",
       "        text-align: right;\n",
       "    }\n",
       "</style>\n",
       "<table border=\"1\" class=\"dataframe\">\n",
       "  <thead>\n",
       "    <tr style=\"text-align: right;\">\n",
       "      <th></th>\n",
       "      <th>Open</th>\n",
       "      <th>High</th>\n",
       "      <th>Low</th>\n",
       "      <th>Close</th>\n",
       "      <th>Volume</th>\n",
       "      <th>SMA5</th>\n",
       "      <th>EMA5</th>\n",
       "      <th>STDDEV5</th>\n",
       "      <th>Lag5</th>\n",
       "      <th>SMA10</th>\n",
       "      <th>...</th>\n",
       "      <th>STDDEV10</th>\n",
       "      <th>Lag10</th>\n",
       "      <th>SMA20</th>\n",
       "      <th>EMA20</th>\n",
       "      <th>STDDEV20</th>\n",
       "      <th>Lag20</th>\n",
       "      <th>SMA60</th>\n",
       "      <th>EMA60</th>\n",
       "      <th>STDDEV60</th>\n",
       "      <th>Lag60</th>\n",
       "    </tr>\n",
       "  </thead>\n",
       "  <tbody>\n",
       "    <tr>\n",
       "      <th>0</th>\n",
       "      <td>28557.800781</td>\n",
       "      <td>28557.800781</td>\n",
       "      <td>28253.320312</td>\n",
       "      <td>28305.880859</td>\n",
       "      <td>1712055400</td>\n",
       "      <td>28549.676172</td>\n",
       "      <td>28471.317898</td>\n",
       "      <td>212.160632</td>\n",
       "      <td>28692.800781</td>\n",
       "      <td>28489.083008</td>\n",
       "      <td>...</td>\n",
       "      <td>167.568349</td>\n",
       "      <td>28326.589844</td>\n",
       "      <td>28176.189941</td>\n",
       "      <td>28271.007228</td>\n",
       "      <td>424.844184</td>\n",
       "      <td>28110.330078</td>\n",
       "      <td>27793.300846</td>\n",
       "      <td>27793.300846</td>\n",
       "      <td>459.334291</td>\n",
       "      <td>26941.019531</td>\n",
       "    </tr>\n",
       "    <tr>\n",
       "      <th>1</th>\n",
       "      <td>28232.619141</td>\n",
       "      <td>28356.099609</td>\n",
       "      <td>28098.830078</td>\n",
       "      <td>28154.970703</td>\n",
       "      <td>1426893600</td>\n",
       "      <td>28472.292187</td>\n",
       "      <td>28416.172219</td>\n",
       "      <td>216.365785</td>\n",
       "      <td>28697.490234</td>\n",
       "      <td>28487.012109</td>\n",
       "      <td>...</td>\n",
       "      <td>169.678410</td>\n",
       "      <td>28490.830078</td>\n",
       "      <td>28185.967480</td>\n",
       "      <td>28274.328527</td>\n",
       "      <td>425.465734</td>\n",
       "      <td>27880.529297</td>\n",
       "      <td>27816.048535</td>\n",
       "      <td>27810.106748</td>\n",
       "      <td>450.270045</td>\n",
       "      <td>27131.169922</td>\n",
       "    </tr>\n",
       "    <tr>\n",
       "      <th>2</th>\n",
       "      <td>28238.849609</td>\n",
       "      <td>28387.210938</td>\n",
       "      <td>28198.560547</td>\n",
       "      <td>28302.890625</td>\n",
       "      <td>1272809300</td>\n",
       "      <td>28363.788281</td>\n",
       "      <td>28329.105047</td>\n",
       "      <td>212.218774</td>\n",
       "      <td>28711.759766</td>\n",
       "      <td>28453.426172</td>\n",
       "      <td>...</td>\n",
       "      <td>196.688687</td>\n",
       "      <td>28389.570312</td>\n",
       "      <td>28199.689551</td>\n",
       "      <td>28262.961115</td>\n",
       "      <td>419.781147</td>\n",
       "      <td>27500.339844</td>\n",
       "      <td>27833.111882</td>\n",
       "      <td>27821.413763</td>\n",
       "      <td>443.338224</td>\n",
       "      <td>26979.390625</td>\n",
       "    </tr>\n",
       "    <tr>\n",
       "      <th>3</th>\n",
       "      <td>28165.609375</td>\n",
       "      <td>28316.199219</td>\n",
       "      <td>28102.750000</td>\n",
       "      <td>28202.380859</td>\n",
       "      <td>1431611800</td>\n",
       "      <td>28282.014453</td>\n",
       "      <td>28320.366906</td>\n",
       "      <td>121.961974</td>\n",
       "      <td>28159.089844</td>\n",
       "      <td>28444.758203</td>\n",
       "      <td>...</td>\n",
       "      <td>201.170683</td>\n",
       "      <td>28459.029297</td>\n",
       "      <td>28239.817090</td>\n",
       "      <td>28266.763925</td>\n",
       "      <td>388.180389</td>\n",
       "      <td>27513.009766</td>\n",
       "      <td>27855.170215</td>\n",
       "      <td>27837.199890</td>\n",
       "      <td>433.120167</td>\n",
       "      <td>27323.990234</td>\n",
       "    </tr>\n",
       "    <tr>\n",
       "      <th>4</th>\n",
       "      <td>28332.910156</td>\n",
       "      <td>28494.519531</td>\n",
       "      <td>28305.730469</td>\n",
       "      <td>28438.849609</td>\n",
       "      <td>2255521100</td>\n",
       "      <td>28290.672656</td>\n",
       "      <td>28281.038224</td>\n",
       "      <td>114.218950</td>\n",
       "      <td>28487.240234</td>\n",
       "      <td>28419.093359</td>\n",
       "      <td>...</td>\n",
       "      <td>213.694340</td>\n",
       "      <td>28476.429688</td>\n",
       "      <td>28274.285645</td>\n",
       "      <td>28260.632205</td>\n",
       "      <td>350.932419</td>\n",
       "      <td>27642.429688</td>\n",
       "      <td>27869.810059</td>\n",
       "      <td>27849.173036</td>\n",
       "      <td>429.750476</td>\n",
       "      <td>27540.230469</td>\n",
       "    </tr>\n",
       "  </tbody>\n",
       "</table>\n",
       "<p>5 rows × 21 columns</p>\n",
       "</div>"
      ],
      "text/plain": [
       "           Open          High           Low         Close      Volume  \\\n",
       "0  28557.800781  28557.800781  28253.320312  28305.880859  1712055400   \n",
       "1  28232.619141  28356.099609  28098.830078  28154.970703  1426893600   \n",
       "2  28238.849609  28387.210938  28198.560547  28302.890625  1272809300   \n",
       "3  28165.609375  28316.199219  28102.750000  28202.380859  1431611800   \n",
       "4  28332.910156  28494.519531  28305.730469  28438.849609  2255521100   \n",
       "\n",
       "           SMA5          EMA5     STDDEV5          Lag5         SMA10  ...  \\\n",
       "0  28549.676172  28471.317898  212.160632  28692.800781  28489.083008  ...   \n",
       "1  28472.292187  28416.172219  216.365785  28697.490234  28487.012109  ...   \n",
       "2  28363.788281  28329.105047  212.218774  28711.759766  28453.426172  ...   \n",
       "3  28282.014453  28320.366906  121.961974  28159.089844  28444.758203  ...   \n",
       "4  28290.672656  28281.038224  114.218950  28487.240234  28419.093359  ...   \n",
       "\n",
       "     STDDEV10         Lag10         SMA20         EMA20    STDDEV20  \\\n",
       "0  167.568349  28326.589844  28176.189941  28271.007228  424.844184   \n",
       "1  169.678410  28490.830078  28185.967480  28274.328527  425.465734   \n",
       "2  196.688687  28389.570312  28199.689551  28262.961115  419.781147   \n",
       "3  201.170683  28459.029297  28239.817090  28266.763925  388.180389   \n",
       "4  213.694340  28476.429688  28274.285645  28260.632205  350.932419   \n",
       "\n",
       "          Lag20         SMA60         EMA60    STDDEV60         Lag60  \n",
       "0  28110.330078  27793.300846  27793.300846  459.334291  26941.019531  \n",
       "1  27880.529297  27816.048535  27810.106748  450.270045  27131.169922  \n",
       "2  27500.339844  27833.111882  27821.413763  443.338224  26979.390625  \n",
       "3  27513.009766  27855.170215  27837.199890  433.120167  27323.990234  \n",
       "4  27642.429688  27869.810059  27849.173036  429.750476  27540.230469  \n",
       "\n",
       "[5 rows x 21 columns]"
      ]
     },
     "execution_count": 10,
     "metadata": {},
     "output_type": "execute_result"
    }
   ],
   "source": [
    "data.head()"
   ]
  },
  {
   "cell_type": "markdown",
   "id": "bd049494",
   "metadata": {
    "tags": []
   },
   "source": [
    "# 2. evalution functions"
   ]
  },
  {
   "cell_type": "code",
   "execution_count": 11,
   "id": "beb5179e",
   "metadata": {},
   "outputs": [],
   "source": [
    "SERIES = pd.Series(data['Close'].values)"
   ]
  },
  {
   "cell_type": "code",
   "execution_count": 12,
   "id": "67cf1374",
   "metadata": {},
   "outputs": [],
   "source": [
    "# Model evaluation function\n",
    "def evl(y_test, y_pred): # MSE and MAE are different on different scales\n",
    "    y_test,y_pred = np.array(y_test).ravel(),np.array(y_pred).ravel()\n",
    "    r2 = r2_score(y_test, y_pred)\n",
    "    rmse = mean_squared_error(y_test, y_pred, squared=False)\n",
    "    mae = mean_absolute_error(y_test, y_pred)\n",
    "    mape = mean_absolute_percentage_error(y_test, y_pred)*100\n",
    "    print('Model Evaluation ')\n",
    "    print('R2:', r2)\n",
    "    print('RMSE:', rmse)\n",
    "    print('MAE:', mae)\n",
    "    print(\"MAPE:\",mape) # MAPE before normalization may error beacause of negative values\n",
    "    return [r2,rmse,mae,mape]"
   ]
  },
  {
   "cell_type": "code",
   "execution_count": 13,
   "id": "b14c8baf",
   "metadata": {},
   "outputs": [],
   "source": [
    "# Plot original data and forecasting data\n",
    "def plot_all(pred_ans,PERIODS):\n",
    "    # Check and Change\n",
    "    pred_ans = pred_ans.ravel()\n",
    "    og = pd.Series(SERIES[-PERIODS:].values)\n",
    "\n",
    "    # Plot\n",
    "    fig = plt.figure(figsize=(10,4))\n",
    "    \n",
    "    plt.plot(og,label= 'Original data', color='#0070C0') #F27F19 orange #0070C0 blue\n",
    "    plt.plot(pred_ans,label= 'Forecasting data', color='#F27F19')\n",
    "    plt.xlabel('')\n",
    "    plt.title('forecasting results')\n",
    "    plt.legend()\n",
    "              \n",
    "    plt.show()\n",
    "    return "
   ]
  },
  {
   "cell_type": "markdown",
   "id": "2e116db0",
   "metadata": {
    "tags": []
   },
   "source": [
    "# 3.prediction function"
   ]
  },
  {
   "cell_type": "code",
   "execution_count": 14,
   "id": "f205461e",
   "metadata": {},
   "outputs": [],
   "source": [
    "#without scaler\n",
    "# DATE_BACK functions for inputting sets\n",
    "def create_dateback(df,DATE_BACK=5,ahead = 1):\n",
    "    if isinstance(df, pd.DataFrame):\n",
    "        trainX = df.drop('Close', axis=1, inplace=False)\n",
    "        #scalarX =MinMaxScaler(feature_range=(0,1))#sklearn normalize\n",
    "        #trainX = scalarX.fit_transform(trainX)\n",
    "        trainY = np.array(df['Close']).reshape(-1, 1)\n",
    "        #scalarY = MinMaxScaler(feature_range=(0,1))#sklearn normalize\n",
    "        #trainY = scalarY.fit_transform(trainY)\n",
    "    # Normalize for each IMF in Series\n",
    "    else:\n",
    "        trainY = np.array(df.values).reshape(-1, 1)\n",
    "        #scalarY = MinMaxScaler(feature_range=(0,1))#sklearn normalize\n",
    "        #trainY = scalarY.fit_transform(trainY)\n",
    "        trainX = trainY\n",
    "    \n",
    "    # Create dateback\n",
    "    dataX, dataY = [], []\n",
    "    ahead = ahead - 1\n",
    "    for i in range(len(trainY)-DATE_BACK-ahead):\n",
    "        dataX.append(np.array(trainX[i:(i+DATE_BACK)]))\n",
    "        dataY.append(np.array(trainY[i+DATE_BACK+ahead]))\n",
    "        \n",
    "    return np.array(dataX),np.array(dataY)"
   ]
  },
  {
   "cell_type": "code",
   "execution_count": 15,
   "id": "2dccf4a8",
   "metadata": {},
   "outputs": [],
   "source": [
    "def step_linear_model(df,model_type,ahead = 1):\n",
    "    trainX,trainY = create_dateback(df)\n",
    "    X0_train,X0_test = trainX[:-ahead],trainX[-ahead:]\n",
    "    y0_train = trainY[:-ahead]\n",
    "    \n",
    "    X0_train = X0_train.reshape(X0_train.shape[0],-1)\n",
    "    X0_test = X0_test.reshape(X0_test.shape[0],-1)\n",
    "    y0_train = y0_train.reshape(y0_train.shape[0])\n",
    "    \n",
    "    #define linear model\n",
    "    if model_type == 'LR':\n",
    "        regressor = LinearRegression()\n",
    "    if model_type =='Lasso':\n",
    "        regressor = Lasso(alpha=0.1)\n",
    "    if model_type == 'Ridge':\n",
    "        regressor = Ridge()\n",
    "    if model_type == 'Xgboost':\n",
    "        regressor = XGBR()\n",
    "    if model_type == 'SVR':\n",
    "        regressor = SVR()\n",
    "    \n",
    "    #print(X0_train.shape)\n",
    "    #print(y0_train.shape)\n",
    "    model = regressor.fit(X0_train,y0_train)\n",
    "    # prediction on test set\n",
    "    y_pred = model.predict(X0_test)\n",
    "    \n",
    "    return y_pred[0]"
   ]
  },
  {
   "cell_type": "markdown",
   "id": "d987ed27",
   "metadata": {},
   "source": [
    "# bench"
   ]
  },
  {
   "cell_type": "markdown",
   "id": "d6a2b6f3",
   "metadata": {
    "tags": []
   },
   "source": [
    "## 4.XGBOOST"
   ]
  },
  {
   "cell_type": "code",
   "execution_count": 16,
   "id": "53a368d2",
   "metadata": {
    "tags": []
   },
   "outputs": [],
   "source": [
    "test_num = int(data.shape[0]*0.2)"
   ]
  },
  {
   "cell_type": "markdown",
   "id": "42dd4f9b",
   "metadata": {
    "tags": []
   },
   "source": [
    "# denoising"
   ]
  },
  {
   "cell_type": "code",
   "execution_count": 17,
   "id": "c1c1edea",
   "metadata": {},
   "outputs": [],
   "source": [
    "# 3.Decomposition, Sample entropy, Re-decomposition, and Integration\n",
    "# EMD decomposition\n",
    "# -------------------------------\n",
    "# Decompose adaptively and plot function\n",
    "# Residue is named the last IMF\n",
    "#for show\n",
    "def emd_decom(series,MODE,trials=10,draw=True): \n",
    "    # Check input\n",
    "    series = series.values\n",
    "\n",
    "    # Initialization\n",
    "    #print('%s decomposition is running.'%str.upper(MODE))\n",
    "    if MODE == 'emd':decom = EMD()\n",
    "    elif MODE == 'eemd':decom = EEMD()\n",
    "    elif MODE == 'ceemdan':decom = CEEMDAN()\n",
    "        \n",
    "    # Decompose\n",
    "    decom.trials = trials # Number of the white noise input\n",
    "    imfs_emd = decom(series)\n",
    "    imfs_num = np.shape(imfs_emd)[0]\n",
    "\n",
    "    if draw:\n",
    "        # Plot original data\n",
    "        series_index = range(len(series))\n",
    "        fig = plt.figure(figsize=(16,2*imfs_num))\n",
    "        plt.subplot(1+imfs_num, 1, 1 )\n",
    "        plt.plot(series_index, series, color='#0070C0') #F27F19 orange #0070C0 blue\n",
    "        plt.ylabel('Original data')\n",
    "        \n",
    "        \n",
    "        # Plot IMFs\n",
    "        for i in range(imfs_num):\n",
    "            plt.subplot(1 + imfs_num,1,2 + i)\n",
    "            plt.plot(series_index, imfs_emd[i, :], color='#F27F19')\n",
    "            plt.ylabel(str.upper(MODE)+'-IMF'+str(i))\n",
    "    \n",
    "    imfs_df = pd.DataFrame(imfs_emd.T)\n",
    "    imfs_df.columns = ['imf'+str(i) for i in range(imfs_num)]\n",
    "\n",
    "    return imfs_df # pd.DataFrame"
   ]
  },
  {
   "cell_type": "code",
   "execution_count": 18,
   "id": "c0137018-e6f7-4034-bbeb-082066aa68fb",
   "metadata": {},
   "outputs": [],
   "source": [
    "from PyEMD.checks import whitenoise_check\n",
    "def emd_denoise(mode,series,show = False):\n",
    "    if mode == 'emd':\n",
    "        decom = EMD()\n",
    "    elif mode == 'eemd':\n",
    "        decom = EEMD()\n",
    "    elif mode == 'ceemdan':\n",
    "        decom = CEEMDAN()\n",
    "    imfs = decom(series)\n",
    "    significant_imfs = whitenoise_check(imfs,alpha = 0.95)\n",
    "    denoised_data = np.array([0]*len(series))\n",
    "    if show:print(significant_imfs)\n",
    "    for i in significant_imfs:\n",
    "        if significant_imfs[i] ==1:\n",
    "            denoised_data = denoised_data+imfs[i-1]\n",
    "    return denoised_data,imfs.shape[0]"
   ]
  },
  {
   "cell_type": "code",
   "execution_count": 19,
   "id": "34337b36",
   "metadata": {},
   "outputs": [],
   "source": [
    "def denoise_1(de_data,df):\n",
    "    de_df = df.drop(axis = 1, columns = 'Close',inplace = False)\n",
    "    de_df['de_close'] = pd.DataFrame(de_data)\n",
    "    return de_df"
   ]
  },
  {
   "cell_type": "code",
   "execution_count": 20,
   "id": "e2300adf",
   "metadata": {},
   "outputs": [],
   "source": [
    "#without scaler\n",
    "# DATE_BACK functions for inputting sets\n",
    "def df_dateback(df,DATE_BACK=5,ahead = 1):\n",
    "    trainX = df.drop('de_close', axis=1, inplace=False)\n",
    "    trainY = np.array(df['de_close']).reshape(-1, 1)\n",
    "    \n",
    "    # Create dateback\n",
    "    dataX, dataY = [], []\n",
    "    ahead = ahead - 1\n",
    "    for i in range(len(trainY)-DATE_BACK):\n",
    "        dataX.append(np.array(trainX[i:(i+DATE_BACK)]))\n",
    "        dataY.append(np.array(trainY[i+DATE_BACK]))\n",
    "    dataX.append(np.array(trainX[-DATE_BACK:]))\n",
    "        \n",
    "    return np.array(dataX),np.array(dataY)"
   ]
  },
  {
   "cell_type": "code",
   "execution_count": 21,
   "id": "82f41f0d",
   "metadata": {},
   "outputs": [],
   "source": [
    "def denoise_pred(df,model_type,ahead = 1):\n",
    "    trainX,trainY = df_dateback(df)\n",
    "    X0_train,X0_test = trainX[:-ahead],trainX[-ahead:]\n",
    "    y0_train = trainY\n",
    "    \n",
    "    X0_train = X0_train.reshape(X0_train.shape[0],-1)\n",
    "    X0_test = X0_test.reshape(X0_test.shape[0],-1)\n",
    "    y0_train = y0_train.reshape(y0_train.shape[0])\n",
    "    \n",
    "    #define linear model\n",
    "    if model_type == 'LR':\n",
    "        regressor = LinearRegression()\n",
    "    if model_type =='Lasso':\n",
    "        regressor = Lasso(alpha=0.1)\n",
    "    if model_type == 'Ridge':\n",
    "        regressor = Ridge()\n",
    "    if model_type == 'Xgboost':\n",
    "        regressor = XGBR()\n",
    "    if model_type == 'SVR':\n",
    "        regressor = SVR()\n",
    "    \n",
    "    \n",
    "    #print(X0_train.shape)\n",
    "    #print(y0_train.shape)\n",
    "    model = regressor.fit(X0_train,y0_train)\n",
    "    # prediction on test set\n",
    "    y_pred = model.predict(X0_test)\n",
    "    \n",
    "    return y_pred[0]"
   ]
  },
  {
   "cell_type": "markdown",
   "id": "cd37977e",
   "metadata": {
    "tags": []
   },
   "source": [
    "# 1.emd"
   ]
  },
  {
   "cell_type": "code",
   "execution_count": 23,
   "id": "b84d0755-1b0c-4017-b1bc-252188299231",
   "metadata": {},
   "outputs": [],
   "source": [
    "import time"
   ]
  },
  {
   "cell_type": "code",
   "execution_count": 25,
   "id": "4d3918f0-3e27-4dfa-8754-2125607f7f34",
   "metadata": {
    "collapsed": true,
    "jupyter": {
     "outputs_hidden": true
    },
    "tags": []
   },
   "outputs": [
    {
     "name": "stdout",
     "output_type": "stream",
     "text": [
      "0\n",
      "1\n",
      "2\n",
      "3\n",
      "4\n",
      "5\n",
      "6\n",
      "7\n",
      "8\n",
      "9\n",
      "10\n",
      "11\n",
      "12\n",
      "13\n",
      "14\n",
      "15\n",
      "16\n",
      "17\n",
      "18\n",
      "19\n",
      "20\n",
      "21\n",
      "22\n",
      "23\n",
      "24\n",
      "25\n",
      "26\n",
      "27\n",
      "28\n",
      "29\n",
      "30\n",
      "31\n",
      "32\n",
      "33\n",
      "34\n",
      "35\n",
      "36\n",
      "37\n",
      "38\n",
      "39\n",
      "40\n",
      "41\n",
      "42\n",
      "43\n",
      "44\n",
      "45\n",
      "46\n",
      "47\n",
      "48\n",
      "49\n",
      "50\n",
      "51\n",
      "52\n",
      "53\n",
      "54\n",
      "55\n",
      "56\n",
      "57\n",
      "58\n",
      "59\n",
      "60\n",
      "61\n",
      "62\n",
      "63\n",
      "64\n",
      "65\n",
      "66\n",
      "67\n",
      "68\n",
      "69\n",
      "70\n",
      "71\n",
      "72\n",
      "73\n",
      "74\n",
      "75\n",
      "76\n",
      "77\n",
      "78\n",
      "79\n",
      "80\n",
      "81\n",
      "82\n",
      "83\n",
      "84\n",
      "85\n",
      "86\n",
      "87\n",
      "88\n",
      "89\n",
      "90\n",
      "91\n",
      "92\n",
      "93\n",
      "94\n",
      "95\n",
      "96\n",
      "97\n",
      "98\n",
      "99\n"
     ]
    }
   ],
   "source": [
    "emd_time = 0\n",
    "for i in range(test_num,test_num-100,-1):\n",
    "    print(test_num-i)\n",
    "    series = SERIES[:-i]\n",
    "    de_df = data[:-i]\n",
    "    start = time.time()\n",
    "    denoised_data,n = emd_denoise('emd',series.values)\n",
    "    end = time.time()\n",
    "    run_time = end - start\n",
    "    emd_time  = run_time + emd_time"
   ]
  },
  {
   "cell_type": "code",
   "execution_count": 26,
   "id": "3c86290a-c855-4aea-90ab-43170813caad",
   "metadata": {},
   "outputs": [
    {
     "data": {
      "text/plain": [
       "5.587433815002441"
      ]
     },
     "execution_count": 26,
     "metadata": {},
     "output_type": "execute_result"
    }
   ],
   "source": [
    "emd_time"
   ]
  },
  {
   "cell_type": "markdown",
   "id": "5454fb4a",
   "metadata": {
    "tags": []
   },
   "source": [
    "# 2. ceemdan"
   ]
  },
  {
   "cell_type": "code",
   "execution_count": 28,
   "id": "11ee9975",
   "metadata": {
    "scrolled": true,
    "tags": []
   },
   "outputs": [
    {
     "name": "stdout",
     "output_type": "stream",
     "text": [
      "0\n",
      "1\n",
      "2\n",
      "3\n",
      "4\n",
      "5\n",
      "6\n",
      "7\n",
      "8\n",
      "9\n",
      "10\n",
      "11\n",
      "12\n",
      "13\n",
      "14\n",
      "15\n",
      "16\n",
      "17\n",
      "18\n",
      "19\n",
      "20\n",
      "21\n",
      "22\n",
      "23\n",
      "24\n",
      "25\n",
      "26\n",
      "27\n",
      "28\n",
      "29\n",
      "30\n",
      "31\n",
      "32\n",
      "33\n",
      "34\n",
      "35\n",
      "36\n",
      "37\n",
      "38\n",
      "39\n",
      "40\n",
      "41\n",
      "42\n",
      "43\n",
      "44\n",
      "45\n",
      "46\n",
      "47\n",
      "48\n",
      "49\n",
      "50\n",
      "51\n",
      "52\n",
      "53\n",
      "54\n",
      "55\n",
      "56\n",
      "57\n",
      "58\n",
      "59\n",
      "60\n",
      "61\n",
      "62\n",
      "63\n",
      "64\n",
      "65\n",
      "66\n",
      "67\n",
      "68\n",
      "69\n",
      "70\n",
      "71\n",
      "72\n",
      "73\n",
      "74\n",
      "75\n",
      "76\n",
      "77\n",
      "78\n",
      "79\n",
      "80\n",
      "81\n",
      "82\n",
      "83\n",
      "84\n",
      "85\n",
      "86\n",
      "87\n",
      "88\n",
      "89\n",
      "90\n",
      "91\n",
      "92\n",
      "93\n",
      "94\n",
      "95\n",
      "96\n",
      "97\n",
      "98\n",
      "99\n"
     ]
    }
   ],
   "source": [
    "ceemdan_time = 0\n",
    "for i in range(test_num,test_num-100,-1):\n",
    "    print(test_num-i)\n",
    "    series = SERIES[:-i]\n",
    "    de_df = data[:-i]\n",
    "    start = time.time()\n",
    "    denoised_data,n = emd_denoise('ceemdan',series.values,show = False)\n",
    "    end = time.time()\n",
    "    run_time = end - start\n",
    "    ceemdan_time  = run_time + ceemdan_time"
   ]
  },
  {
   "cell_type": "code",
   "execution_count": 29,
   "id": "0662d73a-54bd-4df6-b21c-8f3186de8bc2",
   "metadata": {},
   "outputs": [
    {
     "data": {
      "text/plain": [
       "676.2155845165253"
      ]
     },
     "execution_count": 29,
     "metadata": {},
     "output_type": "execute_result"
    }
   ],
   "source": [
    "ceemdan_time"
   ]
  },
  {
   "cell_type": "markdown",
   "id": "41f4a465",
   "metadata": {
    "tags": []
   },
   "source": [
    "# VMD-DFA"
   ]
  },
  {
   "cell_type": "code",
   "execution_count": 30,
   "id": "a935b98d-b043-45e2-be66-2094710c3610",
   "metadata": {
    "tags": []
   },
   "outputs": [],
   "source": [
    "import fathon\n",
    "from fathon import fathonUtils as fu"
   ]
  },
  {
   "cell_type": "code",
   "execution_count": 31,
   "id": "3ba93211-b9af-4e77-9edb-49a8f24f8f9f",
   "metadata": {
    "tags": []
   },
   "outputs": [],
   "source": [
    "def calculate_H(array):\n",
    "    a = fu.toAggregated(array)\n",
    "    pydfa = fathon.DFA(a)\n",
    "    wins = fu.linRangeByStep(4,16)\n",
    "    n,F = pydfa.computeFlucVec(wins)\n",
    "    H,H_intercept = pydfa.fitFlucVec()\n",
    "    return H"
   ]
  },
  {
   "cell_type": "code",
   "execution_count": 32,
   "id": "483ab58f-9c75-4626-bac9-736eefc5d29e",
   "metadata": {
    "tags": []
   },
   "outputs": [],
   "source": [
    "def plot_dfa(H_list):\n",
    "    plt.plot(H_list)\n",
    "    plt.axhline(0.75,color = 'red')\n",
    "    plt.xlabel('IMF')\n",
    "    plt.show()"
   ]
  },
  {
   "cell_type": "code",
   "execution_count": 33,
   "id": "0ea96761-8696-47f1-8c2a-0c488eb2633c",
   "metadata": {
    "tags": []
   },
   "outputs": [],
   "source": [
    "def J_number(num):\n",
    "    if num <= 0.75:\n",
    "        J = 1\n",
    "    elif num> 0.75 and num <= 1.0:\n",
    "        J = 2\n",
    "    elif num > 1 and num <= 1.5:\n",
    "        J = 3\n",
    "    else:\n",
    "        J = 4\n",
    "    return J"
   ]
  },
  {
   "cell_type": "code",
   "execution_count": 34,
   "id": "a46f9633-f925-415a-a73f-141d807fc1cc",
   "metadata": {
    "tags": []
   },
   "outputs": [],
   "source": [
    "def K_num(series,J):\n",
    "    K = 1\n",
    "    num = 0\n",
    "    while (num < 20):\n",
    "        num = 0\n",
    "        vmf_imfs = vmd_decom(series,K,draw=False)\n",
    "        for i in vmf_imfs.columns:\n",
    "            if calculate_H(vmf_imfs[i]) >= 0.75:\n",
    "                num = num +1\n",
    "        if num > J:\n",
    "                return K-1\n",
    "        K = K + 1\n",
    "    #the Max K\n",
    "    #K = K -1\n",
    "    #return K"
   ]
  },
  {
   "cell_type": "code",
   "execution_count": 35,
   "id": "12d1684e",
   "metadata": {
    "tags": []
   },
   "outputs": [],
   "source": [
    "# VMD # There are some problems in this module\n",
    "# -------------------------------\n",
    "def vmd_decom(series,K,draw = False):\n",
    "    from vmdpy import VMD  \n",
    "    # VMD parameters\n",
    "    alpha = 2000       # moderate bandwidth constraint  \n",
    "    tau = 0.           # noise-tolerance (no strict fidelity enforcement)  \n",
    "    DC = 0             # no DC part imposed  \n",
    "    init = 1           # initialize omegas uniformly  \n",
    "    tol = 1e-7         \n",
    "\n",
    "    # VMD \n",
    "    imfs_vmd, imfs_hat, omega = VMD(series, alpha, tau, K, DC, init, tol)  \n",
    "    imfs_num = np.shape(imfs_vmd)[0]\n",
    "    \n",
    "    if draw:\n",
    "        # Plot original data\n",
    "        fig = plt.figure(figsize=(16,2*imfs_num))\n",
    "        plt.subplot(1+imfs_num, 1, 1 )\n",
    "        plt.plot(series, color='#0070C0') #F27F19 orange #0070C0 blue\n",
    "        plt.ylabel('VMD Original data')\n",
    "    \n",
    "        # Plot IMFs\n",
    "        for i in range(imfs_num):\n",
    "            plt.subplot(1 + imfs_num,1,2 + i)\n",
    "            plt.plot(imfs_vmd[i, :], color='#F27F19')\n",
    "            plt.ylabel('VMD-IMF'+str(i))\n",
    "            \n",
    "        plt.show()\n",
    "    \n",
    "    # Save data\n",
    "    imfs_df = pd.DataFrame(imfs_vmd.T)\n",
    "    imfs_df.columns = ['imf'+str(i) for i in range(imfs_num)]\n",
    "\n",
    "    return imfs_df # pd.DataFrame"
   ]
  },
  {
   "cell_type": "code",
   "execution_count": 36,
   "id": "3ba0b1ce-6231-4e93-bdfe-92f286ced7e3",
   "metadata": {
    "tags": []
   },
   "outputs": [],
   "source": [
    "def put_databack(series,reconstructed_data,df):\n",
    "    if len(series) > len(reconstructed_data):\n",
    "        reconstructed_data = list(reconstructed_data)\n",
    "        reconstructed_data.insert(0,reconstructed_data[0])\n",
    "\n",
    "    de_df = df\n",
    "    de_df.drop(axis = 1, columns = 'Close',inplace = True)\n",
    "    de_df['de_close'] = pd.DataFrame(reconstructed_data)\n",
    "    return de_df"
   ]
  },
  {
   "cell_type": "code",
   "execution_count": 37,
   "id": "7059c7ab-7f6d-45bd-89d5-1b49be53f732",
   "metadata": {
    "collapsed": true,
    "jupyter": {
     "outputs_hidden": true
    },
    "tags": []
   },
   "outputs": [
    {
     "name": "stdout",
     "output_type": "stream",
     "text": [
      "0\n",
      "1\n",
      "2\n",
      "3\n",
      "4\n",
      "5\n",
      "6\n",
      "7\n",
      "8\n",
      "9\n",
      "10\n",
      "11\n",
      "12\n",
      "13\n",
      "14\n",
      "15\n",
      "16\n",
      "17\n",
      "18\n",
      "19\n",
      "20\n",
      "21\n",
      "22\n",
      "23\n",
      "24\n",
      "25\n",
      "26\n",
      "27\n",
      "28\n",
      "29\n",
      "30\n",
      "31\n",
      "32\n",
      "33\n",
      "34\n",
      "35\n",
      "36\n",
      "37\n",
      "38\n",
      "39\n",
      "40\n",
      "41\n",
      "42\n",
      "43\n",
      "44\n",
      "45\n",
      "46\n",
      "47\n",
      "48\n",
      "49\n",
      "50\n",
      "51\n",
      "52\n",
      "53\n",
      "54\n",
      "55\n",
      "56\n",
      "57\n",
      "58\n",
      "59\n",
      "60\n",
      "61\n",
      "62\n",
      "63\n",
      "64\n",
      "65\n",
      "66\n",
      "67\n",
      "68\n",
      "69\n",
      "70\n",
      "71\n",
      "72\n",
      "73\n",
      "74\n",
      "75\n",
      "76\n",
      "77\n",
      "78\n",
      "79\n",
      "80\n",
      "81\n",
      "82\n",
      "83\n",
      "84\n",
      "85\n",
      "86\n",
      "87\n",
      "88\n",
      "89\n",
      "90\n",
      "91\n",
      "92\n",
      "93\n",
      "94\n",
      "95\n",
      "96\n",
      "97\n",
      "98\n",
      "99\n"
     ]
    }
   ],
   "source": [
    "#one example\n",
    "vmd_time = 0\n",
    "for i in range(test_num,test_num-100,-1):\n",
    "    print(test_num-i)\n",
    "    series = SERIES[:-i]\n",
    "    start = time.time()\n",
    "    alpha0 = calculate_H(series)\n",
    "    J = J_number(alpha0)\n",
    "    K = K_num(series,J)\n",
    "    vmf_imfs = vmd_decom(series,K,draw=False)\n",
    "    reconstructed_data = vmf_imfs.iloc[:,:J].sum(axis = 1)\n",
    "    end = time.time()\n",
    "    run_time = end - start\n",
    "    vmd_time  = run_time + vmd_time"
   ]
  },
  {
   "cell_type": "code",
   "execution_count": 38,
   "id": "58e91405-0c9b-4120-9f63-92f85404c3f0",
   "metadata": {},
   "outputs": [
    {
     "data": {
      "text/plain": [
       "113.73246192932129"
      ]
     },
     "execution_count": 38,
     "metadata": {},
     "output_type": "execute_result"
    }
   ],
   "source": [
    "vmd_time"
   ]
  },
  {
   "cell_type": "markdown",
   "id": "46f20576-9726-43d5-a9e2-d0fb7bb70895",
   "metadata": {},
   "source": [
    "# VMD-EMD-DFA"
   ]
  },
  {
   "cell_type": "code",
   "execution_count": null,
   "id": "10d0e61a-b870-4981-bb71-393157a704ba",
   "metadata": {},
   "outputs": [],
   "source": [
    "emd_time = 0\n",
    "for i in range(test_num,test_num-100,-1):\n",
    "    print(test_num-i)\n",
    "    series = SERIES[:-i]\n",
    "    de_df = data[:-i]\n",
    "    \n",
    "    denoised_data,n = emd_denoise('emd',series.values)\n",
    "    end = time.time()\n",
    "    run_time = end - start\n",
    "    emd_time  = run_time + emd_time"
   ]
  },
  {
   "cell_type": "code",
   "execution_count": 40,
   "id": "ff782d45-0fc9-4b98-aa54-951d72389fa1",
   "metadata": {},
   "outputs": [
    {
     "data": {
      "text/plain": [
       "8"
      ]
     },
     "execution_count": 40,
     "metadata": {},
     "output_type": "execute_result"
    }
   ],
   "source": [
    "decom = EMD()\n",
    "num = decom(series.values).shape[0]\n",
    "num"
   ]
  },
  {
   "cell_type": "code",
   "execution_count": 41,
   "id": "33d787c3-ad88-4a50-9750-d9cf5b56d85e",
   "metadata": {
    "collapsed": true,
    "jupyter": {
     "outputs_hidden": true
    },
    "tags": []
   },
   "outputs": [
    {
     "name": "stdout",
     "output_type": "stream",
     "text": [
      "0\n",
      "1\n",
      "2\n",
      "3\n",
      "4\n",
      "5\n",
      "6\n",
      "7\n",
      "8\n",
      "9\n",
      "10\n",
      "11\n",
      "12\n",
      "13\n",
      "14\n",
      "15\n",
      "16\n",
      "17\n",
      "18\n",
      "19\n",
      "20\n",
      "21\n",
      "22\n",
      "23\n",
      "24\n",
      "25\n",
      "26\n",
      "27\n",
      "28\n",
      "29\n",
      "30\n",
      "31\n",
      "32\n",
      "33\n",
      "34\n",
      "35\n",
      "36\n",
      "37\n",
      "38\n",
      "39\n",
      "40\n",
      "41\n",
      "42\n",
      "43\n",
      "44\n",
      "45\n",
      "46\n",
      "47\n",
      "48\n",
      "49\n",
      "50\n",
      "51\n",
      "52\n",
      "53\n",
      "54\n",
      "55\n",
      "56\n",
      "57\n",
      "58\n",
      "59\n",
      "60\n",
      "61\n",
      "62\n",
      "63\n",
      "64\n",
      "65\n",
      "66\n",
      "67\n",
      "68\n",
      "69\n",
      "70\n",
      "71\n",
      "72\n",
      "73\n",
      "74\n",
      "75\n",
      "76\n",
      "77\n",
      "78\n",
      "79\n",
      "80\n",
      "81\n",
      "82\n",
      "83\n",
      "84\n",
      "85\n",
      "86\n",
      "87\n",
      "88\n",
      "89\n",
      "90\n",
      "91\n",
      "92\n",
      "93\n",
      "94\n",
      "95\n",
      "96\n",
      "97\n",
      "98\n",
      "99\n"
     ]
    }
   ],
   "source": [
    "vmd_emd_time = 0\n",
    "for i in range(test_num,test_num-100,-1):\n",
    "    print(test_num-i)\n",
    "    series = SERIES[:-i]\n",
    "    \n",
    "    start = time.time()\n",
    "    decom = EMD()\n",
    "    num = decom(series.values).shape[0]\n",
    "    vmf_imfs = vmd_decom(series,num,draw=False)\n",
    "    col_num = []\n",
    "    no = 0\n",
    "    for j in vmf_imfs.columns:\n",
    "        if calculate_H(vmf_imfs[j]) >= 0.75:\n",
    "            col_num.append(no)\n",
    "        no = no+1\n",
    "    reconstructed_data = vmf_imfs.iloc[:,col_num].sum(axis = 1)\n",
    "    end = time.time()\n",
    "    run_time = end - start\n",
    "    vmd_emd_time  = run_time + vmd_emd_time"
   ]
  },
  {
   "cell_type": "code",
   "execution_count": 42,
   "id": "a451f2c2-ee69-4d34-98b0-ad73d0251519",
   "metadata": {},
   "outputs": [
    {
     "data": {
      "text/plain": [
       "48.030542612075806"
      ]
     },
     "execution_count": 42,
     "metadata": {},
     "output_type": "execute_result"
    }
   ],
   "source": [
    "vmd_emd_time"
   ]
  },
  {
   "cell_type": "code",
   "execution_count": null,
   "id": "20f22802",
   "metadata": {},
   "outputs": [],
   "source": []
  }
 ],
 "metadata": {
  "kernelspec": {
   "display_name": "Python 3 (ipykernel)",
   "language": "python",
   "name": "python3"
  },
  "language_info": {
   "codemirror_mode": {
    "name": "ipython",
    "version": 3
   },
   "file_extension": ".py",
   "mimetype": "text/x-python",
   "name": "python",
   "nbconvert_exporter": "python",
   "pygments_lexer": "ipython3",
   "version": "3.9.13"
  }
 },
 "nbformat": 4,
 "nbformat_minor": 5
}
